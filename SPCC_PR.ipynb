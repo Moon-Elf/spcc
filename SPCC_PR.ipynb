{
  "cells": [
    {
      "cell_type": "markdown",
      "metadata": {
        "id": "view-in-github",
        "colab_type": "text"
      },
      "source": [
        "<a href=\"https://colab.research.google.com/github/Moon-Elf/spcc/blob/main/SPCC_PR.ipynb\" target=\"_parent\"><img src=\"https://colab.research.google.com/assets/colab-badge.svg\" alt=\"Open In Colab\"/></a>"
      ]
    },
    {
      "cell_type": "markdown",
      "source": [
        "# **First & Follow**"
      ],
      "metadata": {
        "id": "cTYe8TARQdM2"
      }
    },
    {
      "cell_type": "code",
      "execution_count": null,
      "metadata": {
        "colab": {
          "base_uri": "https://localhost:8080/"
        },
        "id": "OIshxo0E_Oax",
        "outputId": "f1697c17-db06-466c-8c82-2260d522a96a"
      },
      "outputs": [
        {
          "name": "stdout",
          "output_type": "stream",
          "text": [
            "Enter no. of terminals: 5\n",
            "Enter the terminals :\n",
            "+\n",
            "*\n",
            "a\n",
            "(\n",
            ")\n",
            "Enter no. of non terminals: 5\n",
            "Enter the non terminals :\n",
            "E\n",
            "B\n",
            "T\n",
            "Y\n",
            "F\n",
            "Enter the starting symbol: E\n",
            "Enter no of productions: 5\n",
            "Enter the productions:\n",
            "E->TB\n",
            "B->+TB\n",
            "T->FY\n",
            "Y->*FY/Є\n",
            "F->a/(E)\n",
            "   Non Terminals           First               Follow       \n",
            "         E               {'(', 'a'}          {')', '$'}     \n",
            "         B                 {'+'}             {')', '$'}     \n",
            "         T               {'(', 'a'}            {'+'}        \n",
            "         Y               {'*', 'Є'}            {'+'}        \n",
            "         F               {'(', 'a'}          {'*', '+'}     \n"
          ]
        }
      ],
      "source": [
        "import sys\n",
        "sys.setrecursionlimit(60)\n",
        "\n",
        "def first(string):\n",
        "    #print(\"first({})\".format(string))\n",
        "    first_ = set()\n",
        "    if string in non_terminals:\n",
        "        alternatives = productions_dict[string]\n",
        "\n",
        "        for alternative in alternatives:\n",
        "            first_2 = first(alternative)\n",
        "            first_ = first_ |first_2\n",
        "\n",
        "    elif string in terminals:\n",
        "        first_ = {string}\n",
        "\n",
        "    elif string=='' or string=='Є':\n",
        "        first_ = {'ЄE'}\n",
        "\n",
        "    else:\n",
        "        first_2 = first(string[0])\n",
        "        if 'Є' in first_2:\n",
        "            i = 1\n",
        "            while 'Є' in first_2:\n",
        "                #print(\"inside while\")\n",
        "\n",
        "                first_ = first_ | (first_2 - {'Є'})\n",
        "                #print('string[i:]=', string[i:])\n",
        "                if string[i:] in terminals:\n",
        "                    first_ = first_ | {string[i:]}\n",
        "                    break\n",
        "                elif string[i:] == '':\n",
        "                    first_ = first_ | {'Є'}\n",
        "                    break\n",
        "                first_2 = first(string[i:])\n",
        "                first_ = first_ | first_2 - {'Є'}\n",
        "                i += 1\n",
        "        else:\n",
        "            first_ = first_ | first_2\n",
        "\n",
        "\n",
        "    #print(\"returning for first({})\".format(string),first_)\n",
        "    return  first_\n",
        "\n",
        "\n",
        "def follow(nT):\n",
        "    #print(\"inside follow({})\".format(nT))\n",
        "    follow_ = set()\n",
        "    #print(\"FOLLOW\", FOLLOW)\n",
        "    prods = productions_dict.items()\n",
        "    if nT==starting_symbol:\n",
        "        follow_ = follow_ | {'$'}\n",
        "    for nt,rhs in prods:\n",
        "        #print(\"nt to rhs\", nt,rhs)\n",
        "        for alt in rhs:\n",
        "            for char in alt:\n",
        "                if char==nT:\n",
        "                    following_str = alt[alt.index(char) + 1:]\n",
        "                    if following_str=='':\n",
        "                        if nt==nT:\n",
        "                            continue\n",
        "                        else:\n",
        "                            follow_ = follow_ | follow(nt)\n",
        "                    else:\n",
        "                        follow_2 = first(following_str)\n",
        "                        if 'Є' in follow_2:\n",
        "                            follow_ = follow_ | follow_2-{'Є'}\n",
        "                            follow_ = follow_ | follow(nt)\n",
        "                        else:\n",
        "                            follow_ = follow_ | follow_2\n",
        "    #print(\"returning for follow({})\".format(nT),follow_)\n",
        "    return follow_\n",
        "\n",
        "\n",
        "\n",
        "\n",
        "\n",
        "no_of_terminals=int(input(\"Enter no. of terminals: \"))\n",
        "\n",
        "terminals = []\n",
        "\n",
        "print(\"Enter the terminals :\")\n",
        "for _ in range(no_of_terminals):\n",
        "    terminals.append(input())\n",
        "\n",
        "no_of_non_terminals=int(input(\"Enter no. of non terminals: \"))\n",
        "\n",
        "non_terminals = []\n",
        "\n",
        "print(\"Enter the non terminals :\")\n",
        "for _ in range(no_of_non_terminals):\n",
        "    non_terminals.append(input())\n",
        "\n",
        "starting_symbol = input(\"Enter the starting symbol: \")\n",
        "\n",
        "no_of_productions = int(input(\"Enter no of productions: \"))\n",
        "\n",
        "productions = []\n",
        "\n",
        "print(\"Enter the productions:\")\n",
        "for _ in range(no_of_productions):\n",
        "    productions.append(input())\n",
        "\n",
        "\n",
        "#print(\"terminals\", terminals)\n",
        "\n",
        "#print(\"non terminals\", non_terminals)\n",
        "\n",
        "#print(\"productions\",productions)\n",
        "\n",
        "\n",
        "productions_dict = {}\n",
        "\n",
        "for nT in non_terminals:\n",
        "    productions_dict[nT] = []\n",
        "\n",
        "\n",
        "#print(\"productions_dict\",productions_dict)\n",
        "\n",
        "for production in productions:\n",
        "    nonterm_to_prod = production.split(\"->\")\n",
        "    alternatives = nonterm_to_prod[1].split(\"/\")\n",
        "    for alternative in alternatives:\n",
        "        productions_dict[nonterm_to_prod[0]].append(alternative)\n",
        "\n",
        "#print(\"productions_dict\",productions_dict)\n",
        "\n",
        "#print(\"nonterm_to_prod\",nonterm_to_prod)\n",
        "#print(\"alternatives\",alternatives)\n",
        "\n",
        "\n",
        "FIRST = {}\n",
        "FOLLOW = {}\n",
        "\n",
        "for non_terminal in non_terminals:\n",
        "    FIRST[non_terminal] = set()\n",
        "\n",
        "for non_terminal in non_terminals:\n",
        "    FOLLOW[non_terminal] = set()\n",
        "\n",
        "#print(\"FIRST\",FIRST)\n",
        "\n",
        "for non_terminal in non_terminals:\n",
        "    FIRST[non_terminal] = FIRST[non_terminal] | first(non_terminal)\n",
        "\n",
        "#print(\"FIRST\",FIRST)\n",
        "\n",
        "\n",
        "FOLLOW[starting_symbol] = FOLLOW[starting_symbol] | {'$'}\n",
        "for non_terminal in non_terminals:\n",
        "    FOLLOW[non_terminal] = FOLLOW[non_terminal] | follow(non_terminal)\n",
        "\n",
        "#print(\"FOLLOW\", FOLLOW)\n",
        "\n",
        "print(\"{: ^20}{: ^20}{: ^20}\".format('Non Terminals','First','Follow'))\n",
        "for non_terminal in non_terminals:\n",
        "    print(\"{: ^20}{: ^20}{: ^20}\".format(non_terminal,str(FIRST[non_terminal]),str(FOLLOW[non_terminal])))"
      ]
    },
    {
      "cell_type": "markdown",
      "source": [
        "# **Code Optimization : Common Subexpression & Algebraic Simplification**"
      ],
      "metadata": {
        "id": "kYNsbJfeQphM"
      }
    },
    {
      "cell_type": "code",
      "execution_count": null,
      "metadata": {
        "colab": {
          "base_uri": "https://localhost:8080/"
        },
        "id": "THhuTD18Azio",
        "outputId": "364a1dc8-a7bb-47ef-89a1-a0a92296cba3"
      },
      "outputs": [
        {
          "name": "stdout",
          "output_type": "stream",
          "text": [
            "Enter number of operations 4\n",
            "A = B + C\n",
            "B = A - D\n",
            "C = B + C\n",
            "D = A - D\n",
            "['A ', ' B + C']\n",
            "['B ', ' A - D']\n",
            "['C ', ' B + C']\n",
            "['D ', ' A - D']\n",
            "A  =  B + C\n",
            "B  =  A - D\n",
            "C  =  B + C\n",
            "D  = B \n"
          ]
        }
      ],
      "source": [
        "\n",
        "n=int(input('Enter number of operations '))\n",
        "S=[]\n",
        "for i in range(n) :\n",
        "    S.append(input())\n",
        "\n",
        "optimizer = []\n",
        "for i in range(len(S)) :\n",
        "    S[i] = S[i].split('=')\n",
        "    print(S[i])\n",
        "\n",
        "for i in range(len(S)) :\n",
        "    for j in range(i+1, len(S)) :\n",
        "        if S[i][1] in S[j][1] :\n",
        "            for k in range(j-1, i-1, -1) :\n",
        "                if S[j][1][1] in S[k][0] or S[j][1][5] in S[k][0] :\n",
        "                    break\n",
        "            else :\n",
        "                S[j][1] = S[i][0]\n",
        "    optimizer.append(S[i][0] + ' = ' + S[i][1])\n",
        "\n",
        "for i in optimizer :\n",
        "    print(i)\n"
      ]
    },
    {
      "cell_type": "code",
      "source": [
        "n = int(input('Enter number of operations: '))\n",
        "expressions = []\n",
        "\n",
        "# Input expressions\n",
        "for i in range(n):\n",
        "    expressions.append(input())\n",
        "\n",
        "# Common subexpression elimination\n",
        "optimized_expressions = []\n",
        "for i in range(len(expressions)):\n",
        "    expressions[i] = expressions[i].split('=')\n",
        "\n",
        "for i in range(len(expressions)):\n",
        "    for j in range(i+1, len(expressions)):\n",
        "        if expressions[i][1] in expressions[j][1]:\n",
        "            for k in range(j-1, i-1, -1):\n",
        "                if expressions[j][1][1] in expressions[k][0] or expressions[j][1][5] in expressions[k][0]:\n",
        "                    break\n",
        "            else:\n",
        "                expressions[j][1] = expressions[i][0]\n",
        "    optimized_expressions.append(expressions[i][0] + ' = ' + expressions[i][1])\n",
        "\n",
        "# Algebraic simplification\n",
        "simplified_expressions = []\n",
        "for exp in optimized_expressions:\n",
        "    lhs, rhs = exp.split('=')\n",
        "    # Apply algebraic simplifications here\n",
        "    # Example simplifications:\n",
        "    rhs = rhs.replace(\" * 1\", \"\").replace(\" + 0\", \"\").replace(\" - 0\", \"\")\n",
        "    # Add more simplifications as needed\n",
        "    simplified_expressions.append(lhs.strip() + ' = ' + rhs.strip())\n",
        "\n",
        "# Output optimized and simplified expressions\n",
        "print(\"\\nOptimized expression is: \\n\")\n",
        "for exp in simplified_expressions:\n",
        "    print(exp)\n",
        "\n",
        "\n",
        "# Enter number of operations: 6\n",
        "# A = B + C\n",
        "# B = A - D\n",
        "# C = B + C\n",
        "# D = A - D\n",
        "# E = A * 1\n",
        "# F = D - 0\n",
        "\n",
        "# Optimized expression is:\n",
        "\n",
        "# A = B + C\n",
        "# B = A - D\n",
        "# C = B + C\n",
        "# D = B\n",
        "# E = A\n",
        "# F = D\n"
      ],
      "metadata": {
        "colab": {
          "base_uri": "https://localhost:8080/",
          "height": 313
        },
        "id": "LVdEcmrmUcJL",
        "outputId": "c2a6ce66-6230-481a-c4c1-96846796f38a"
      },
      "execution_count": 34,
      "outputs": [
        {
          "output_type": "stream",
          "name": "stdout",
          "text": [
            "Enter number of operations: 6\n",
            "A = B + C\n",
            "B = A - D\n",
            "C = B + C\n",
            "D = A - D\n",
            "E = A * 1 + C\n",
            "F = D - 0 * A\n",
            "\n",
            "Optimized expression is: \n",
            "\n",
            "A = B + C\n",
            "B = A - D\n",
            "C = B + C\n",
            "D = B\n",
            "E = A + C\n",
            "F = D * A\n"
          ]
        },
        {
          "output_type": "execute_result",
          "data": {
            "text/plain": [
              "'\\nEnter number of operations: 6\\nA = B + C\\nB = A - D\\nC = B + C\\nD = A - D\\nE = A * 1\\nF = D - 0\\n\\nOptimized expression is: \\n\\nA = B + C\\nB = A - D\\nC = B + C\\nD = B\\nE = A\\nF = D\\n'"
            ],
            "application/vnd.google.colaboratory.intrinsic+json": {
              "type": "string"
            }
          },
          "metadata": {},
          "execution_count": 34
        }
      ]
    },
    {
      "cell_type": "markdown",
      "source": [
        "# **Lexical Analyser**"
      ],
      "metadata": {
        "id": "-_NdKTKAQ2bj"
      }
    },
    {
      "cell_type": "code",
      "execution_count": 17,
      "metadata": {
        "colab": {
          "base_uri": "https://localhost:8080/"
        },
        "id": "S3ESNCYVB4eG",
        "outputId": "244ba393-6926-4b8b-ac7d-45f3e14642f7"
      },
      "outputs": [
        {
          "output_type": "stream",
          "name": "stdout",
          "text": [
            "Enter your code: def factorial() { int a = 10 - b; print('Hello');}\n",
            "     Token         |     Token Type\n",
            "-------------------------------------------\n",
            "      def          |      Keyword  \n",
            "   factorial       |     Identifier\n",
            "       (           |     Delimiter \n",
            "       )           |     Delimiter \n",
            "       {           |     Delimiter \n",
            "      int          |      Keyword  \n",
            "       a           |     Identifier\n",
            "       =           |      Operator \n",
            "      10           |      Constant \n",
            "       -           |      Operator \n",
            "       b           |     Identifier\n",
            "       ;           |     Delimiter \n",
            "     print         |     Identifier\n",
            "       (           |     Delimiter \n",
            "       '           |     Delimiter \n",
            "     Hello         |     Identifier\n",
            "       '           |     Delimiter \n",
            "       )           |     Delimiter \n",
            "       ;           |     Delimiter \n",
            "       }           |     Delimiter \n"
          ]
        }
      ],
      "source": [
        "import re\n",
        "\n",
        "keywords = [\n",
        "    \"abstract\", \"assert\", \"boolean\", \"break\", \"byte\", \"case\", \"catch\", \"char\",\n",
        "    \"class\", \"const\", \"continue\", \"def\", \"default\", \"do\", \"double\", \"else\", \"extends\",\n",
        "    \"false\", \"final\", \"finally\", \"float\", \"for\", \"goto\", \"if\", \"implements\",\n",
        "    \"import\", \"instanceof\", \"int\", \"interface\", \"long\", \"native\", \"new\", \"null\",\n",
        "    \"package\", \"private\", \"protected\", \"public\", \"return\", \"short\", \"static\",\n",
        "    \"strictfp\", \"super\", \"switch\", \"synchronized\", \"String\", \"this\", \"throw\",\n",
        "    \"throws\", \"transient\", \"true\", \"try\", \"void\", \"volatile\", \"while\"\n",
        "]\n",
        "\n",
        "operators = [\"=\", \"+\", \"-\", \"*\", \"/\"]\n",
        "\n",
        "alphabet = r\"[a-zA-Z]+\\w*\"\n",
        "numberpattern = re.compile(r\"-?\\d+(\\.\\d+)?\")\n",
        "\n",
        "delimiters = {\"(\", \")\", \"{\", \"}\", \"[\", \"]\", \",\", \";\", \".\", \":\", \"'\", '\"'}\n",
        "\n",
        "def analyze_token(token):\n",
        "    if token in keywords:\n",
        "        return \"Keyword\"\n",
        "    if numberpattern.fullmatch(token):\n",
        "        return \"Constant\"\n",
        "    if token in delimiters:\n",
        "        return \"Delimiter\"\n",
        "    if token in operators:\n",
        "        return \"Operator\"\n",
        "    if re.fullmatch(alphabet, token):\n",
        "        return \"Identifier\"\n",
        "    return \"Invalid Token\"\n",
        "\n",
        "def lexical_analyzer(code):\n",
        "    tokens = re.findall(r'[\\w]+|[^_\\w\\s]', code)\n",
        "    analyzed_tokens = []\n",
        "    for token in tokens:\n",
        "        analyzed_tokens.append((token, analyze_token(token)))\n",
        "    return analyzed_tokens\n",
        "\n",
        "if __name__ == \"__main__\":\n",
        "    code = input(\"Enter your code: \")\n",
        "    analyzed_tokens = lexical_analyzer(code)\n",
        "    print(\"{: ^15}{: ^10}{: ^10}\".format(\"Token\", \"|\", \"Token Type\"))\n",
        "    print(\"-------------------------------------------\")\n",
        "    for token, token_type in analyzed_tokens:\n",
        "        print(\"{: ^15}{: ^10}{: ^10}\".format(token, '|', token_type))\n"
      ]
    },
    {
      "cell_type": "markdown",
      "source": [
        "# **Lex tool**"
      ],
      "metadata": {
        "id": "Va6VKEhvRRBi"
      }
    },
    {
      "cell_type": "code",
      "source": [
        "%{\n",
        "#include <stdio.h>\n",
        "#include <stdlib.h>\n",
        "int n = 0;\n",
        "%}\n",
        "\n",
        "%%\n",
        "\"while\"|\"if\"|\"else\" {n++; printf(\"\\t keywords : %s\\n\", yytext);}\n",
        "\"int\"|\"float\" {n++; printf(\"\\t keywords : %s\\n\", yytext);}\n",
        "[a-zA-Z_][a-zA-Z0-9_]* {n++; printf(\"\\t identifier : %s\\n\", yytext);}\n",
        "\"<=\"|\"==\"|\"=\"|\"++\"|\"-\"|\"*\"|\"+\" {n++; printf(\"\\t operator : %s\\n\", yytext);}\n",
        "[(){}|, ;] {n++; printf(\"\\t separator : %s\\n\", yytext);}\n",
        "\n",
        "[0-9]+\\.[0-9]+ {n++; printf(\"\\t float : %s\\n\", yytext);}\n",
        "[0-9]+ {n++; printf(\"\\t integer : %s\\n\", yytext);}\n",
        "\"* end *\" { printf(\"\\n total no. of tokens = %d\\n\", n); return 0; }\n",
        "\n",
        ". ;\n",
        "\n",
        "%%\n",
        "\n",
        "int main()\n",
        "{\n",
        "    yylex();\n",
        "    return 0;\n",
        "}\n",
        "\n",
        "// lex file_name.l\n",
        "// cc lex.yy.c -lfl\n",
        "// ./a.out"
      ],
      "metadata": {
        "colab": {
          "base_uri": "https://localhost:8080/",
          "height": 106
        },
        "id": "zism24zRRYq2",
        "outputId": "a8c23290-0409-49a2-d239-ddc7d9f087cf"
      },
      "execution_count": 18,
      "outputs": [
        {
          "output_type": "error",
          "ename": "SyntaxError",
          "evalue": "invalid decimal literal (<ipython-input-18-8dde3499c57e>, line 10)",
          "traceback": [
            "\u001b[0;36m  File \u001b[0;32m\"<ipython-input-18-8dde3499c57e>\"\u001b[0;36m, line \u001b[0;32m10\u001b[0m\n\u001b[0;31m    [a-zA-Z_][a-zA-Z0-9_]* {n++; printf(\"\\t identifier : %s\\n\", yytext);}\u001b[0m\n\u001b[0m                       ^\u001b[0m\n\u001b[0;31mSyntaxError\u001b[0m\u001b[0;31m:\u001b[0m invalid decimal literal\n"
          ]
        }
      ]
    },
    {
      "cell_type": "markdown",
      "source": [
        "# **ICG: 3AC**"
      ],
      "metadata": {
        "id": "OuIwwmNnRuuy"
      }
    },
    {
      "cell_type": "code",
      "source": [
        "import secrets\n",
        "stack = []\n",
        "ans = []\n",
        "equation = \"a=(b+c+d)\"\n",
        "# equation = \"a=((c*d)+(a+b)+(a+b))\"\n",
        "# equation = \"a=((b+(c*d))/e)\"\n",
        "g_left = equation[0]\n",
        "equation = equation[2:]\n",
        "t = 1\n",
        "\n",
        "def generate_random_special_character():\n",
        "    special_characters = \"!@#$&_<>?[]|\"\n",
        "    return secrets.choice(special_characters)\n",
        "map = {}\n",
        "def replacement(right):\n",
        "    for key, value in map.items():\n",
        "        right = right.replace(value, key)\n",
        "    return right\n",
        "def solve(eq):\n",
        "    global t\n",
        "    precedence = ['*', '/', '+', '-']\n",
        "    for op in precedence:\n",
        "        for i in range(len(eq)):\n",
        "            ch = eq[i]\n",
        "            if ch == op:\n",
        "                t = str(t)\n",
        "                left = 't' + t\n",
        "                right = eq[i - 1] + op + eq[i + 1]\n",
        "                right = replacement(right)\n",
        "                ans.append(left + '=' + right)\n",
        "                t = int(t)\n",
        "                t = t + 1\n",
        "                random = generate_random_special_character()\n",
        "                while random in map.keys():\n",
        "                    random = generate_random_special_character()\n",
        "                map[left] = random\n",
        "                eq = eq[:i - 1] + map[left] + eq[i + 2:]\n",
        "                break\n",
        "    return eq\n",
        "for ch in equation:\n",
        "    if ch == '(':\n",
        "        stack.append(ch)\n",
        "    elif ch == ')':\n",
        "        eq = ''\n",
        "        while stack[-1] != '(':\n",
        "            eq = stack.pop() + eq\n",
        "        opening = stack.pop()\n",
        "        res = solve(eq)\n",
        "        while(len(res) > 1):\n",
        "            res = solve(res)\n",
        "        stack.append(res)\n",
        "    else:\n",
        "        stack.append(ch)\n",
        "while len(ans) != 0:\n",
        "    pr = ans.pop(0)\n",
        "    print(pr)\n",
        "final = g_left + '=' + pr[:2]\n",
        "print(final)\n"
      ],
      "metadata": {
        "colab": {
          "base_uri": "https://localhost:8080/"
        },
        "id": "OtGTrLcwRyHz",
        "outputId": "a9014e43-602f-4775-9f1a-e421d27dfc90"
      },
      "execution_count": 25,
      "outputs": [
        {
          "output_type": "stream",
          "name": "stdout",
          "text": [
            "t1=b+c\n",
            "t2=t1+d\n",
            "a=t2\n"
          ]
        }
      ]
    },
    {
      "cell_type": "code",
      "source": [
        "\n",
        "class Quadruple:\n",
        "    def __init__(self, op, arg1=None, arg2=None, result=None):\n",
        "        self.op = op\n",
        "        self.arg1 = arg1\n",
        "        self.arg2 = arg2\n",
        "        self.result = result\n",
        "    def __str__(self):\n",
        "        return f\"({self.op}, {self.arg1}, {self.arg2}, {self.result})\"\n",
        "class Triple:\n",
        "    def __init__(self, op, arg1=None, arg2=None):\n",
        "        self.op = op\n",
        "        self.arg1 = arg1\n",
        "        self.arg2 = arg2\n",
        "    def __str__(self):\n",
        "        return f\"({self.op}, {self.arg1}, {self.arg2})\"\n",
        "class IntermediateCodeGenerator:\n",
        "    def __init__(self):\n",
        "        self.quadruples = []\n",
        "        self.triples = []\n",
        "        self.temp_count = 1\n",
        "    def generate_temp(self):\n",
        "        temp = f\"t{self.temp_count}\"\n",
        "        self.temp_count += 1\n",
        "        return temp\n",
        "    def generate_quadruple(self, op, arg1=None, arg2=None, result=None):\n",
        "        quad = Quadruple(op, arg1, arg2, result)\n",
        "        self.quadruples.append(quad)\n",
        "    def generate_triple(self, op, arg1=None, arg2=None):\n",
        "        triple = Triple(op, arg1, arg2)\n",
        "        self.triples.append(triple)\n",
        "    def generate_code(self, expression):\n",
        "        tokens = expression.split('=')\n",
        "        result = tokens[0].strip()\n",
        "        expr = tokens[1].strip()\n",
        "        self.temp_count = 1  # Reset temporary variable count for each expression\n",
        "        self._generate_code(expr, result)\n",
        "    def _generate_code(self, expr, result):\n",
        "        stack = []\n",
        "        op_stack = []\n",
        "        for token in expr:\n",
        "            if token.isalpha() or token.isdigit():\n",
        "                stack.append(token)\n",
        "            elif token in '+-*/':\n",
        "                op_stack.append(token)\n",
        "            elif token == ')':\n",
        "                op = op_stack.pop()\n",
        "                arg2 = stack.pop()\n",
        "                arg1 = stack.pop()\n",
        "                temp = self.generate_temp()\n",
        "                self.generate_quadruple(op, arg1, arg2, temp)\n",
        "                self.generate_triple(op, arg1, arg2)\n",
        "                stack.append(temp)\n",
        "        # Perform multiplication if there's a previous addition or subtraction operation\n",
        "        if len(op_stack) > 0 and op_stack[-1] in '*/':\n",
        "            op = op_stack.pop()\n",
        "            arg2 = stack.pop()\n",
        "            arg1 = stack.pop()\n",
        "            temp = self.generate_temp()\n",
        "            self.generate_quadruple(op, arg1, arg2, temp)\n",
        "            self.generate_triple(op, arg1, arg2)\n",
        "            stack.append(temp)\n",
        "        self.generate_quadruple('=', stack.pop(), None, result)\n",
        "    def display_quadruples(self):\n",
        "        print(\"Quadruples:\")\n",
        "        for quad in self.quadruples:\n",
        "            print(quad)\n",
        "    def display_triples(self):\n",
        "        print(\"\\nTriples:\")\n",
        "        for triple in self.triples:\n",
        "            print(triple)\n",
        "if __name__ == \"__main__\":\n",
        "    generator = IntermediateCodeGenerator()\n",
        "    # Example expression\n",
        "    expression = \"a = (e - b) * (c + d)\"\n",
        "    generator.generate_code(expression)\n",
        "    generator.display_quadruples()\n",
        "    generator.display_triples()\n"
      ],
      "metadata": {
        "colab": {
          "base_uri": "https://localhost:8080/"
        },
        "id": "X2F5EkllUNRG",
        "outputId": "470e36f1-1167-4f38-9829-fb17476064d1"
      },
      "execution_count": 26,
      "outputs": [
        {
          "output_type": "stream",
          "name": "stdout",
          "text": [
            "Quadruples:\n",
            "(-, e, b, t1)\n",
            "(+, c, d, t2)\n",
            "(*, t1, t2, t3)\n",
            "(=, t3, None, a)\n",
            "\n",
            "Triples:\n",
            "(-, e, b)\n",
            "(+, c, d)\n",
            "(*, t1, t2)\n"
          ]
        }
      ]
    }
  ],
  "metadata": {
    "colab": {
      "provenance": [],
      "collapsed_sections": [
        "cTYe8TARQdM2",
        "kYNsbJfeQphM",
        "-_NdKTKAQ2bj",
        "Va6VKEhvRRBi"
      ],
      "authorship_tag": "ABX9TyNgtgRJkhPSPgZqdSow9iaT",
      "include_colab_link": true
    },
    "kernelspec": {
      "display_name": "Python 3",
      "name": "python3"
    },
    "language_info": {
      "name": "python"
    }
  },
  "nbformat": 4,
  "nbformat_minor": 0
}